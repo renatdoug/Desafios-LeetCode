{
  "nbformat": 4,
  "nbformat_minor": 0,
  "metadata": {
    "colab": {
      "name": "romanToInter2.1.ipynb",
      "provenance": [],
      "collapsed_sections": []
    },
    "kernelspec": {
      "name": "python3",
      "display_name": "Python 3"
    },
    "language_info": {
      "name": "python"
    }
  },
  "cells": [
    {
      "cell_type": "code",
      "source": [
        "class Solution(object):\n",
        "    def __init__(self, nr:str):\n",
        "      self.nr = nr\n",
        "      self.converter = self.romnaTOinter(nr)\n",
        "\n",
        "    def romnaTOinter(nr):\n",
        "      from functools import reduce\n",
        "      dic_s = {'I':'1', 'V':'5', 'X':'10', 'L':'50', 'C':'100', 'D':'500', 'M':'1000'}\n",
        "      lsta=[]\n",
        "      lsta2=[]\n",
        "      lsta3 = []\n",
        "      lsta4 = []\n",
        "      indice = []\n",
        "      indice2 = []\n",
        "\n",
        "      lst = list(nr)\n",
        "      sum = 0;\n",
        "      sum2= 0;\n",
        "\n",
        "     # Definition of lsta which is the ratio of the equivalent integers, numeral to roman alaghrism:\n",
        "      lc = [lsta.append(int(dic_s[nr[i]])) for i in range(0, len(lst)) if(nr[i] in dic_s)]\n",
        "\n",
        "      #Definition of lsta2 which is represents the subtractions: (V - I; X - I; L - X; C - X; D - C; M - C):\n",
        "\n",
        "      lc1 = [lsta2.append(lsta[j+1]-lsta[j]) for j in range(0, (len(lsta)-1))if(lsta[j] < lsta[j+1])]  \n",
        "\n",
        "      #Definition of lsta3 that represents the ratio of the digits (I, X, C) that must be subtracted from lsta: \"\n",
        "      # Its successors (V, X, L, C, D) must also be subtracted from lsta\n",
        "      lc2 = [lsta3.append(lsta[i]) for i in range(0, (len(lsta)-1)) if(lsta[i] < lsta[i+1])]\n",
        "\n",
        "     #Definition of indices that represent the positions of algarves I, X, C, which need to be subtracted\n",
        "      lc3 = [indice.append(p) for k in range(0, len(lsta3)) for p in range(0, len(lsta)) if lsta[p] == lsta3[k]] \n",
        "      lc4 = [indice.append(p+1) for k in range(0, len(lsta3)) for p in range(0, len(lsta)) if lsta[p] == lsta3[k]] \n",
        "\n",
        "      #Definition of the index that represents the ratio of the indexes of the sets of numbers of lst2\n",
        "      lc5 = [indice2.append(ind) for ind in range(0, len(lsta))]\n",
        "      \n",
        "     #Definition of index3 that represents the list of indices that were in the set:\n",
        "      indice3 = [i for i in indice2 if i not in indice] # exclude equal indices \n",
        "\n",
        "      #Definition of lost 4 is the ratio of integers obtained with subtraction in lsta2, and which will be added to form the integer:\n",
        "      lc6 = [lsta4.append(lsta[new]) for new in indice3]\n",
        "      lc7 = [lsta4.append(item) for item in lsta2]\n",
        "\n",
        "     #Sum for converting roman number to integer\n",
        "   \n",
        "   \n",
        "      if not lsta2:\n",
        "        for m in range(0, len(lsta)):\n",
        "          sum+=lsta[m]\n",
        "        return \"O equivalente inteiro do algarismo romano\", nr.upper(), \" é: \", sum\n",
        "      else:\n",
        "          for m2 in range(0, len(lsta4)):\n",
        "            sum2+=lsta4[m2]\n",
        "          return \"O equivalente inteiro do algarismo romano\", nr.upper(), \" é: \", sum2"
      ],
      "metadata": {
        "id": "EiI73nW54Mdw"
      },
      "execution_count": 41,
      "outputs": []
    },
    {
      "cell_type": "code",
      "source": [
        "nr = input('Digite o número Romano: ').upper()\n",
        "Solution.romnaTOinter(nr)"
      ],
      "metadata": {
        "colab": {
          "base_uri": "https://localhost:8080/"
        },
        "id": "5iuF9RKABhw1",
        "outputId": "85603353-1c3e-4982-dca7-e7d3ff758401"
      },
      "execution_count": 42,
      "outputs": [
        {
          "name": "stdout",
          "output_type": "stream",
          "text": [
            "Digite o número Romano: mcmlxxxiv\n"
          ]
        },
        {
          "output_type": "execute_result",
          "data": {
            "text/plain": [
              "('O equivalente inteiro do algarismo romano', 'MCMLXXXIV', ' é: ', 1984)"
            ]
          },
          "metadata": {},
          "execution_count": 42
        }
      ]
    },
    {
      "cell_type": "code",
      "source": [
        "class Solution:\n",
        "    def romanToInt(self, s: str) -> int:\n",
        "        d = {\"I\": 1, \"V\": 5, \"X\": 10, \"L\": 50, \"C\": 100, \"D\": 500, \"M\": 1000}\n",
        "        sum = 0\n",
        "        \n",
        "        for i, c in enumerate(s):\n",
        "            sum += d[c]\n",
        "            if (i + 1) < len(s):\n",
        "                if c == \"I\" and (s[i + 1] == \"V\" or s[i + 1] == \"X\"): sum -= 2\n",
        "                if c == \"X\" and (s[i + 1] == \"L\" or s[i + 1] == \"C\"): sum -= 20\n",
        "                if c == \"C\" and (s[i + 1] == \"D\" or s[i + 1] == \"M\"): sum -= 200\n",
        "            print(i, c, sum)\n",
        "        return sum"
      ],
      "metadata": {
        "id": "BxuiT5a68atm"
      },
      "execution_count": 43,
      "outputs": []
    },
    {
      "cell_type": "code",
      "source": [
        "Solution.romanToInt(III)"
      ],
      "metadata": {
        "id": "0nSYsPQC8e1O",
        "outputId": "aded6a30-b69a-4143-abba-f8b954b1614b",
        "colab": {
          "base_uri": "https://localhost:8080/",
          "height": 163
        }
      },
      "execution_count": 45,
      "outputs": [
        {
          "output_type": "error",
          "ename": "NameError",
          "evalue": "ignored",
          "traceback": [
            "\u001b[0;31m---------------------------------------------------------------------------\u001b[0m",
            "\u001b[0;31mNameError\u001b[0m                                 Traceback (most recent call last)",
            "\u001b[0;32m<ipython-input-45-67ea76b4d609>\u001b[0m in \u001b[0;36m<module>\u001b[0;34m()\u001b[0m\n\u001b[0;32m----> 1\u001b[0;31m \u001b[0mSolution\u001b[0m\u001b[0;34m.\u001b[0m\u001b[0mromanToInt\u001b[0m\u001b[0;34m(\u001b[0m\u001b[0mIII\u001b[0m\u001b[0;34m)\u001b[0m\u001b[0;34m\u001b[0m\u001b[0;34m\u001b[0m\u001b[0m\n\u001b[0m",
            "\u001b[0;31mNameError\u001b[0m: name 'III' is not defined"
          ]
        }
      ]
    }
  ]
}